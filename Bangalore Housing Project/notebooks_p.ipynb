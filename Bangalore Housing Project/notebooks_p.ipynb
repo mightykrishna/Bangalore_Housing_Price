{
  "metadata": {
    "language_info": {
      "codemirror_mode": {
        "name": "python",
        "version": 3
      },
      "file_extension": ".py",
      "mimetype": "text/x-python",
      "name": "python",
      "nbconvert_exporter": "python",
      "pygments_lexer": "ipython3",
      "version": "3.8"
    },
    "kernelspec": {
      "name": "python",
      "display_name": "Python (Pyodide)",
      "language": "python"
    }
  },
  "nbformat_minor": 4,
  "nbformat": 4,
  "cells": [
    {
      "cell_type": "code",
      "source": "import pandas as pd\nimport numpy as np\nimport matplotlib as plt",
      "metadata": {
        "trusted": true
      },
      "execution_count": 2,
      "outputs": []
    },
    {
      "cell_type": "code",
      "source": "data=pd.read_csv('Bengaluru_House_Data.csv')",
      "metadata": {
        "trusted": true
      },
      "execution_count": 3,
      "outputs": []
    },
    {
      "cell_type": "code",
      "source": "data.head",
      "metadata": {
        "trusted": true
      },
      "execution_count": 4,
      "outputs": [
        {
          "execution_count": 4,
          "output_type": "execute_result",
          "data": {
            "text/plain": "<bound method NDFrame.head of                   area_type   availability                  location  \\\n0      Super built-up  Area         19-Dec  Electronic City Phase II   \n1                Plot  Area  Ready To Move          Chikka Tirupathi   \n2            Built-up  Area  Ready To Move               Uttarahalli   \n3      Super built-up  Area  Ready To Move        Lingadheeranahalli   \n4      Super built-up  Area  Ready To Move                  Kothanur   \n...                     ...            ...                       ...   \n13315        Built-up  Area  Ready To Move                Whitefield   \n13316  Super built-up  Area  Ready To Move             Richards Town   \n13317        Built-up  Area  Ready To Move     Raja Rajeshwari Nagar   \n13318  Super built-up  Area         18-Jun           Padmanabhanagar   \n13319  Super built-up  Area  Ready To Move              Doddathoguru   \n\n            size  society total_sqft  bath  balcony   price  \n0          2 BHK  Coomee        1056   2.0      1.0   39.07  \n1      4 Bedroom  Theanmp       2600   5.0      3.0  120.00  \n2          3 BHK      NaN       1440   2.0      3.0   62.00  \n3          3 BHK  Soiewre       1521   3.0      1.0   95.00  \n4          2 BHK      NaN       1200   2.0      1.0   51.00  \n...          ...      ...        ...   ...      ...     ...  \n13315  5 Bedroom  ArsiaEx       3453   4.0      0.0  231.00  \n13316      4 BHK      NaN       3600   5.0      NaN  400.00  \n13317      2 BHK  Mahla T       1141   2.0      1.0   60.00  \n13318      4 BHK  SollyCl       4689   4.0      1.0  488.00  \n13319      1 BHK      NaN        550   1.0      1.0   17.00  \n\n[13320 rows x 9 columns]>"
          },
          "metadata": {}
        }
      ]
    },
    {
      "cell_type": "code",
      "source": "data.info()",
      "metadata": {
        "trusted": true
      },
      "execution_count": 4,
      "outputs": [
        {
          "name": "stdout",
          "text": "<class 'pandas.core.frame.DataFrame'>\nRangeIndex: 13320 entries, 0 to 13319\nData columns (total 9 columns):\n #   Column        Non-Null Count  Dtype  \n---  ------        --------------  -----  \n 0   area_type     13320 non-null  object \n 1   availability  13320 non-null  object \n 2   location      13319 non-null  object \n 3   size          13304 non-null  object \n 4   society       7818 non-null   object \n 5   total_sqft    13320 non-null  object \n 6   bath          13247 non-null  float64\n 7   balcony       12711 non-null  float64\n 8   price         13320 non-null  float64\ndtypes: float64(3), object(6)\nmemory usage: 624.4+ KB\n",
          "output_type": "stream"
        }
      ]
    },
    {
      "cell_type": "code",
      "source": "data.shape\n\n",
      "metadata": {
        "trusted": true
      },
      "execution_count": 5,
      "outputs": [
        {
          "execution_count": 5,
          "output_type": "execute_result",
          "data": {
            "text/plain": "(13320, 9)"
          },
          "metadata": {}
        }
      ]
    },
    {
      "cell_type": "code",
      "source": "for column in data.columns:\n    print(data[column].value_counts())\n    print(\"*\"*20)",
      "metadata": {
        "trusted": true
      },
      "execution_count": 6,
      "outputs": [
        {
          "name": "stdout",
          "text": "Super built-up  Area    8790\nBuilt-up  Area          2418\nPlot  Area              2025\nCarpet  Area              87\nName: area_type, dtype: int64\n********************\nReady To Move    10581\n18-Dec             307\n18-May             295\n18-Apr             271\n18-Aug             200\n                 ...  \n15-Aug               1\n17-Jan               1\n16-Nov               1\n16-Jan               1\n14-Jul               1\nName: availability, Length: 81, dtype: int64\n********************\nWhitefield                        540\nSarjapur  Road                    399\nElectronic City                   302\nKanakpura Road                    273\nThanisandra                       234\n                                 ... \nBapuji Layout                       1\n1st Stage Radha Krishna Layout      1\nBEML Layout 5th stage               1\nsingapura paradise                  1\nAbshot Layout                       1\nName: location, Length: 1305, dtype: int64\n********************\n2 BHK         5199\n3 BHK         4310\n4 Bedroom      826\n4 BHK          591\n3 Bedroom      547\n1 BHK          538\n2 Bedroom      329\n5 Bedroom      297\n6 Bedroom      191\n1 Bedroom      105\n8 Bedroom       84\n7 Bedroom       83\n5 BHK           59\n9 Bedroom       46\n6 BHK           30\n7 BHK           17\n1 RK            13\n10 Bedroom      12\n9 BHK            8\n8 BHK            5\n11 BHK           2\n11 Bedroom       2\n10 BHK           2\n14 BHK           1\n13 BHK           1\n12 Bedroom       1\n27 BHK           1\n43 Bedroom       1\n16 BHK           1\n19 BHK           1\n18 Bedroom       1\nName: size, dtype: int64\n********************\nGrrvaGr    80\nPrarePa    76\nSryalan    59\nPrtates    59\nGMown E    56\n           ..\nAmionce     1\nJaghtDe     1\nJauraht     1\nBrity U     1\nRSntsAp     1\nName: society, Length: 2688, dtype: int64\n********************\n1200    843\n1100    221\n1500    205\n2400    196\n600     180\n       ... \n3580      1\n2461      1\n1437      1\n2155      1\n4689      1\nName: total_sqft, Length: 2117, dtype: int64\n********************\n2.0     6908\n3.0     3286\n4.0     1226\n1.0      788\n5.0      524\n6.0      273\n7.0      102\n8.0       64\n9.0       43\n10.0      13\n12.0       7\n13.0       3\n11.0       3\n16.0       2\n27.0       1\n40.0       1\n15.0       1\n14.0       1\n18.0       1\nName: bath, dtype: int64\n********************\n2.0    5113\n1.0    4897\n3.0    1672\n0.0    1029\nName: balcony, dtype: int64\n********************\n75.00     310\n65.00     302\n55.00     275\n60.00     270\n45.00     240\n         ... \n351.00      1\n54.10       1\n80.64       1\n32.73       1\n488.00      1\nName: price, Length: 1994, dtype: int64\n********************\n",
          "output_type": "stream"
        }
      ]
    },
    {
      "cell_type": "code",
      "source": "data.isna().sum()",
      "metadata": {
        "trusted": true
      },
      "execution_count": 7,
      "outputs": [
        {
          "execution_count": 7,
          "output_type": "execute_result",
          "data": {
            "text/plain": "area_type          0\navailability       0\nlocation           1\nsize              16\nsociety         5502\ntotal_sqft         0\nbath              73\nbalcony          609\nprice              0\ndtype: int64"
          },
          "metadata": {}
        }
      ]
    },
    {
      "cell_type": "code",
      "source": "data.drop(columns=['area_type','availability','society','balcony'],inplace=True)",
      "metadata": {
        "trusted": true
      },
      "execution_count": 9,
      "outputs": []
    },
    {
      "cell_type": "code",
      "source": "data.describe()",
      "metadata": {
        "trusted": true
      },
      "execution_count": 10,
      "outputs": [
        {
          "execution_count": 10,
          "output_type": "execute_result",
          "data": {
            "text/plain": "               bath         price\ncount  13247.000000  13320.000000\nmean       2.692610    112.565627\nstd        1.341458    148.971674\nmin        1.000000      8.000000\n25%        2.000000     50.000000\n50%        2.000000     72.000000\n75%        3.000000    120.000000\nmax       40.000000   3600.000000",
            "text/html": "<div>\n<style scoped>\n    .dataframe tbody tr th:only-of-type {\n        vertical-align: middle;\n    }\n\n    .dataframe tbody tr th {\n        vertical-align: top;\n    }\n\n    .dataframe thead th {\n        text-align: right;\n    }\n</style>\n<table border=\"1\" class=\"dataframe\">\n  <thead>\n    <tr style=\"text-align: right;\">\n      <th></th>\n      <th>bath</th>\n      <th>price</th>\n    </tr>\n  </thead>\n  <tbody>\n    <tr>\n      <th>count</th>\n      <td>13247.000000</td>\n      <td>13320.000000</td>\n    </tr>\n    <tr>\n      <th>mean</th>\n      <td>2.692610</td>\n      <td>112.565627</td>\n    </tr>\n    <tr>\n      <th>std</th>\n      <td>1.341458</td>\n      <td>148.971674</td>\n    </tr>\n    <tr>\n      <th>min</th>\n      <td>1.000000</td>\n      <td>8.000000</td>\n    </tr>\n    <tr>\n      <th>25%</th>\n      <td>2.000000</td>\n      <td>50.000000</td>\n    </tr>\n    <tr>\n      <th>50%</th>\n      <td>2.000000</td>\n      <td>72.000000</td>\n    </tr>\n    <tr>\n      <th>75%</th>\n      <td>3.000000</td>\n      <td>120.000000</td>\n    </tr>\n    <tr>\n      <th>max</th>\n      <td>40.000000</td>\n      <td>3600.000000</td>\n    </tr>\n  </tbody>\n</table>\n</div>"
          },
          "metadata": {}
        }
      ]
    },
    {
      "cell_type": "code",
      "source": "data['location'].value_counts()",
      "metadata": {
        "trusted": true
      },
      "execution_count": 11,
      "outputs": [
        {
          "execution_count": 11,
          "output_type": "execute_result",
          "data": {
            "text/plain": "Whitefield                        540\nSarjapur  Road                    399\nElectronic City                   302\nKanakpura Road                    273\nThanisandra                       234\n                                 ... \nBapuji Layout                       1\n1st Stage Radha Krishna Layout      1\nBEML Layout 5th stage               1\nsingapura paradise                  1\nAbshot Layout                       1\nName: location, Length: 1305, dtype: int64"
          },
          "metadata": {}
        }
      ]
    },
    {
      "cell_type": "code",
      "source": "data['location']=data['location'].fillna('Sarjapur Road')",
      "metadata": {
        "trusted": true
      },
      "execution_count": 12,
      "outputs": []
    },
    {
      "cell_type": "code",
      "source": "data['size'].value_counts()\n",
      "metadata": {
        "trusted": true
      },
      "execution_count": 13,
      "outputs": [
        {
          "execution_count": 13,
          "output_type": "execute_result",
          "data": {
            "text/plain": "2 BHK         5199\n3 BHK         4310\n4 Bedroom      826\n4 BHK          591\n3 Bedroom      547\n1 BHK          538\n2 Bedroom      329\n5 Bedroom      297\n6 Bedroom      191\n1 Bedroom      105\n8 Bedroom       84\n7 Bedroom       83\n5 BHK           59\n9 Bedroom       46\n6 BHK           30\n7 BHK           17\n1 RK            13\n10 Bedroom      12\n9 BHK            8\n8 BHK            5\n11 BHK           2\n11 Bedroom       2\n10 BHK           2\n14 BHK           1\n13 BHK           1\n12 Bedroom       1\n27 BHK           1\n43 Bedroom       1\n16 BHK           1\n19 BHK           1\n18 Bedroom       1\nName: size, dtype: int64"
          },
          "metadata": {}
        }
      ]
    },
    {
      "cell_type": "code",
      "source": "data['size']=data['size'].fillna('2 BHK')",
      "metadata": {
        "trusted": true
      },
      "execution_count": 14,
      "outputs": []
    },
    {
      "cell_type": "code",
      "source": "data.info()",
      "metadata": {
        "trusted": true
      },
      "execution_count": 15,
      "outputs": [
        {
          "name": "stdout",
          "text": "<class 'pandas.core.frame.DataFrame'>\nRangeIndex: 13320 entries, 0 to 13319\nData columns (total 5 columns):\n #   Column      Non-Null Count  Dtype  \n---  ------      --------------  -----  \n 0   location    13320 non-null  object \n 1   size        13320 non-null  object \n 2   total_sqft  13320 non-null  object \n 3   bath        13247 non-null  float64\n 4   price       13320 non-null  float64\ndtypes: float64(2), object(3)\nmemory usage: 364.3+ KB\n",
          "output_type": "stream"
        }
      ]
    },
    {
      "cell_type": "code",
      "source": "data['bath']=data['bath'].fillna(data['bath'].median())",
      "metadata": {
        "trusted": true
      },
      "execution_count": 16,
      "outputs": []
    },
    {
      "cell_type": "code",
      "source": "data.info()",
      "metadata": {
        "trusted": true
      },
      "execution_count": 17,
      "outputs": [
        {
          "name": "stdout",
          "text": "<class 'pandas.core.frame.DataFrame'>\nRangeIndex: 13320 entries, 0 to 13319\nData columns (total 5 columns):\n #   Column      Non-Null Count  Dtype  \n---  ------      --------------  -----  \n 0   location    13320 non-null  object \n 1   size        13320 non-null  object \n 2   total_sqft  13320 non-null  object \n 3   bath        13320 non-null  float64\n 4   price       13320 non-null  float64\ndtypes: float64(2), object(3)\nmemory usage: 364.3+ KB\n",
          "output_type": "stream"
        }
      ]
    },
    {
      "cell_type": "code",
      "source": "data['bhk']=data['size'].str.split().str.get(0).astype(int)",
      "metadata": {
        "trusted": true
      },
      "execution_count": 18,
      "outputs": []
    },
    {
      "cell_type": "code",
      "source": "data[data.bhk>20]",
      "metadata": {
        "trusted": true
      },
      "execution_count": 19,
      "outputs": [
        {
          "execution_count": 19,
          "output_type": "execute_result",
          "data": {
            "text/plain": "                       location        size total_sqft  bath  price  bhk\n1718  2Electronic City Phase II      27 BHK       8000  27.0  230.0   27\n4684                Munnekollal  43 Bedroom       2400  40.0  660.0   43",
            "text/html": "<div>\n<style scoped>\n    .dataframe tbody tr th:only-of-type {\n        vertical-align: middle;\n    }\n\n    .dataframe tbody tr th {\n        vertical-align: top;\n    }\n\n    .dataframe thead th {\n        text-align: right;\n    }\n</style>\n<table border=\"1\" class=\"dataframe\">\n  <thead>\n    <tr style=\"text-align: right;\">\n      <th></th>\n      <th>location</th>\n      <th>size</th>\n      <th>total_sqft</th>\n      <th>bath</th>\n      <th>price</th>\n      <th>bhk</th>\n    </tr>\n  </thead>\n  <tbody>\n    <tr>\n      <th>1718</th>\n      <td>2Electronic City Phase II</td>\n      <td>27 BHK</td>\n      <td>8000</td>\n      <td>27.0</td>\n      <td>230.0</td>\n      <td>27</td>\n    </tr>\n    <tr>\n      <th>4684</th>\n      <td>Munnekollal</td>\n      <td>43 Bedroom</td>\n      <td>2400</td>\n      <td>40.0</td>\n      <td>660.0</td>\n      <td>43</td>\n    </tr>\n  </tbody>\n</table>\n</div>"
          },
          "metadata": {}
        }
      ]
    },
    {
      "cell_type": "code",
      "source": "data['total_sqft'].unique()",
      "metadata": {
        "trusted": true
      },
      "execution_count": 20,
      "outputs": [
        {
          "execution_count": 20,
          "output_type": "execute_result",
          "data": {
            "text/plain": "array(['1056', '2600', '1440', ..., '1133 - 1384', '774', '4689'],\n      dtype=object)"
          },
          "metadata": {}
        }
      ]
    },
    {
      "cell_type": "code",
      "source": "def convertRange(x):\n    temp=x.split('-')\n    if len(temp)==2:\n        return (float(temp[0])+float(temp[1]))/2\n    try:\n        return float(x)\n    except:\n        return None",
      "metadata": {
        "trusted": true
      },
      "execution_count": 22,
      "outputs": []
    },
    {
      "cell_type": "code",
      "source": "data['total_sqft']=data['total_sqft'].apply(convertRange)",
      "metadata": {
        "trusted": true
      },
      "execution_count": 27,
      "outputs": []
    },
    {
      "cell_type": "code",
      "source": "data.info()",
      "metadata": {
        "trusted": true
      },
      "execution_count": 28,
      "outputs": [
        {
          "name": "stdout",
          "text": "<class 'pandas.core.frame.DataFrame'>\nRangeIndex: 13320 entries, 0 to 13319\nData columns (total 7 columns):\n #   Column      Non-Null Count  Dtype  \n---  ------      --------------  -----  \n 0   location    13320 non-null  object \n 1   size        13320 non-null  object \n 2   total_sqft  13274 non-null  float64\n 3   bath        13320 non-null  float64\n 4   price       13320 non-null  float64\n 5   bhk         13320 non-null  int32  \n 6   total_sft   13274 non-null  float64\ndtypes: float64(4), int32(1), object(2)\nmemory usage: 572.4+ KB\n",
          "output_type": "stream"
        }
      ]
    },
    {
      "cell_type": "code",
      "source": "data['price_per_sqft']=data['price']*100000/data['total_sqft']",
      "metadata": {
        "trusted": true
      },
      "execution_count": 29,
      "outputs": []
    },
    {
      "cell_type": "code",
      "source": "data.describe()",
      "metadata": {
        "trusted": true
      },
      "execution_count": 30,
      "outputs": [
        {
          "execution_count": 30,
          "output_type": "execute_result",
          "data": {
            "text/plain": "         total_sqft          bath         price           bhk     total_sft  \\\ncount  13274.000000  13320.000000  13320.000000  13320.000000  13274.000000   \nmean    1559.626694      2.688814    112.565627      2.802778   1559.626694   \nstd     1238.405258      1.338754    148.971674      1.294496   1238.405258   \nmin        1.000000      1.000000      8.000000      1.000000      1.000000   \n25%     1100.000000      2.000000     50.000000      2.000000   1100.000000   \n50%     1276.000000      2.000000     72.000000      3.000000   1276.000000   \n75%     1680.000000      3.000000    120.000000      3.000000   1680.000000   \nmax    52272.000000     40.000000   3600.000000     43.000000  52272.000000   \n\n       price_per_sqft  \ncount    1.327400e+04  \nmean     7.907501e+03  \nstd      1.064296e+05  \nmin      2.678298e+02  \n25%      4.266865e+03  \n50%      5.434306e+03  \n75%      7.311746e+03  \nmax      1.200000e+07  ",
            "text/html": "<div>\n<style scoped>\n    .dataframe tbody tr th:only-of-type {\n        vertical-align: middle;\n    }\n\n    .dataframe tbody tr th {\n        vertical-align: top;\n    }\n\n    .dataframe thead th {\n        text-align: right;\n    }\n</style>\n<table border=\"1\" class=\"dataframe\">\n  <thead>\n    <tr style=\"text-align: right;\">\n      <th></th>\n      <th>total_sqft</th>\n      <th>bath</th>\n      <th>price</th>\n      <th>bhk</th>\n      <th>total_sft</th>\n      <th>price_per_sqft</th>\n    </tr>\n  </thead>\n  <tbody>\n    <tr>\n      <th>count</th>\n      <td>13274.000000</td>\n      <td>13320.000000</td>\n      <td>13320.000000</td>\n      <td>13320.000000</td>\n      <td>13274.000000</td>\n      <td>1.327400e+04</td>\n    </tr>\n    <tr>\n      <th>mean</th>\n      <td>1559.626694</td>\n      <td>2.688814</td>\n      <td>112.565627</td>\n      <td>2.802778</td>\n      <td>1559.626694</td>\n      <td>7.907501e+03</td>\n    </tr>\n    <tr>\n      <th>std</th>\n      <td>1238.405258</td>\n      <td>1.338754</td>\n      <td>148.971674</td>\n      <td>1.294496</td>\n      <td>1238.405258</td>\n      <td>1.064296e+05</td>\n    </tr>\n    <tr>\n      <th>min</th>\n      <td>1.000000</td>\n      <td>1.000000</td>\n      <td>8.000000</td>\n      <td>1.000000</td>\n      <td>1.000000</td>\n      <td>2.678298e+02</td>\n    </tr>\n    <tr>\n      <th>25%</th>\n      <td>1100.000000</td>\n      <td>2.000000</td>\n      <td>50.000000</td>\n      <td>2.000000</td>\n      <td>1100.000000</td>\n      <td>4.266865e+03</td>\n    </tr>\n    <tr>\n      <th>50%</th>\n      <td>1276.000000</td>\n      <td>2.000000</td>\n      <td>72.000000</td>\n      <td>3.000000</td>\n      <td>1276.000000</td>\n      <td>5.434306e+03</td>\n    </tr>\n    <tr>\n      <th>75%</th>\n      <td>1680.000000</td>\n      <td>3.000000</td>\n      <td>120.000000</td>\n      <td>3.000000</td>\n      <td>1680.000000</td>\n      <td>7.311746e+03</td>\n    </tr>\n    <tr>\n      <th>max</th>\n      <td>52272.000000</td>\n      <td>40.000000</td>\n      <td>3600.000000</td>\n      <td>43.000000</td>\n      <td>52272.000000</td>\n      <td>1.200000e+07</td>\n    </tr>\n  </tbody>\n</table>\n</div>"
          },
          "metadata": {}
        }
      ]
    },
    {
      "cell_type": "code",
      "source": "data['location'].value_counts()",
      "metadata": {
        "trusted": true
      },
      "execution_count": 32,
      "outputs": [
        {
          "execution_count": 32,
          "output_type": "execute_result",
          "data": {
            "text/plain": "Whitefield                        540\nSarjapur  Road                    399\nElectronic City                   302\nKanakpura Road                    273\nThanisandra                       234\n                                 ... \n1st Stage Radha Krishna Layout      1\nBEML Layout 5th stage               1\nsingapura paradise                  1\nUvce Layout                         1\nAbshot Layout                       1\nName: location, Length: 1306, dtype: int64"
          },
          "metadata": {}
        }
      ]
    },
    {
      "cell_type": "code",
      "source": "data['location']=data['location'].apply(lambda x:x.strip())\nlocation_count=data['location'].value_counts()\nlocation_count",
      "metadata": {
        "trusted": true
      },
      "execution_count": 34,
      "outputs": [
        {
          "execution_count": 34,
          "output_type": "execute_result",
          "data": {
            "text/plain": "Whitefield                            541\nSarjapur  Road                        399\nElectronic City                       304\nKanakpura Road                        273\nThanisandra                           237\n                                     ... \n1Channasandra                           1\nHosahalli                               1\nVijayabank bank layout                  1\nnear Ramanashree California resort      1\nAbshot Layout                           1\nName: location, Length: 1295, dtype: int64"
          },
          "metadata": {}
        }
      ]
    },
    {
      "cell_type": "code",
      "source": "location_count_less_10=location_count[location_count<=10]\nlocation_count_less_10",
      "metadata": {
        "trusted": true
      },
      "execution_count": 35,
      "outputs": [
        {
          "execution_count": 35,
          "output_type": "execute_result",
          "data": {
            "text/plain": "BTM 1st Stage                         10\nNagadevanahalli                       10\nBasapura                              10\nSector 1 HSR Layout                   10\nDairy Circle                          10\n                                      ..\n1Channasandra                          1\nHosahalli                              1\nVijayabank bank layout                 1\nnear Ramanashree California resort     1\nAbshot Layout                          1\nName: location, Length: 1054, dtype: int64"
          },
          "metadata": {}
        }
      ]
    },
    {
      "cell_type": "code",
      "source": "data['location']=data['location'].apply(lambda x: 'other' if x in location_count_less_10 else x)",
      "metadata": {
        "trusted": true
      },
      "execution_count": 36,
      "outputs": []
    },
    {
      "cell_type": "code",
      "source": "data['location'].value_counts()",
      "metadata": {
        "trusted": true
      },
      "execution_count": 37,
      "outputs": [
        {
          "execution_count": 37,
          "output_type": "execute_result",
          "data": {
            "text/plain": "other                 2886\nWhitefield             541\nSarjapur  Road         399\nElectronic City        304\nKanakpura Road         273\n                      ... \nNehru Nagar             11\nBanjara Layout          11\nLB Shastri Nagar        11\nPattandur Agrahara      11\nNarayanapura            11\nName: location, Length: 242, dtype: int64"
          },
          "metadata": {}
        }
      ]
    },
    {
      "cell_type": "code",
      "source": "data.describe()",
      "metadata": {
        "trusted": true
      },
      "execution_count": 38,
      "outputs": [
        {
          "execution_count": 38,
          "output_type": "execute_result",
          "data": {
            "text/plain": "         total_sqft          bath         price           bhk     total_sft  \\\ncount  13274.000000  13320.000000  13320.000000  13320.000000  13274.000000   \nmean    1559.626694      2.688814    112.565627      2.802778   1559.626694   \nstd     1238.405258      1.338754    148.971674      1.294496   1238.405258   \nmin        1.000000      1.000000      8.000000      1.000000      1.000000   \n25%     1100.000000      2.000000     50.000000      2.000000   1100.000000   \n50%     1276.000000      2.000000     72.000000      3.000000   1276.000000   \n75%     1680.000000      3.000000    120.000000      3.000000   1680.000000   \nmax    52272.000000     40.000000   3600.000000     43.000000  52272.000000   \n\n       price_per_sqft  \ncount    1.327400e+04  \nmean     7.907501e+03  \nstd      1.064296e+05  \nmin      2.678298e+02  \n25%      4.266865e+03  \n50%      5.434306e+03  \n75%      7.311746e+03  \nmax      1.200000e+07  ",
            "text/html": "<div>\n<style scoped>\n    .dataframe tbody tr th:only-of-type {\n        vertical-align: middle;\n    }\n\n    .dataframe tbody tr th {\n        vertical-align: top;\n    }\n\n    .dataframe thead th {\n        text-align: right;\n    }\n</style>\n<table border=\"1\" class=\"dataframe\">\n  <thead>\n    <tr style=\"text-align: right;\">\n      <th></th>\n      <th>total_sqft</th>\n      <th>bath</th>\n      <th>price</th>\n      <th>bhk</th>\n      <th>total_sft</th>\n      <th>price_per_sqft</th>\n    </tr>\n  </thead>\n  <tbody>\n    <tr>\n      <th>count</th>\n      <td>13274.000000</td>\n      <td>13320.000000</td>\n      <td>13320.000000</td>\n      <td>13320.000000</td>\n      <td>13274.000000</td>\n      <td>1.327400e+04</td>\n    </tr>\n    <tr>\n      <th>mean</th>\n      <td>1559.626694</td>\n      <td>2.688814</td>\n      <td>112.565627</td>\n      <td>2.802778</td>\n      <td>1559.626694</td>\n      <td>7.907501e+03</td>\n    </tr>\n    <tr>\n      <th>std</th>\n      <td>1238.405258</td>\n      <td>1.338754</td>\n      <td>148.971674</td>\n      <td>1.294496</td>\n      <td>1238.405258</td>\n      <td>1.064296e+05</td>\n    </tr>\n    <tr>\n      <th>min</th>\n      <td>1.000000</td>\n      <td>1.000000</td>\n      <td>8.000000</td>\n      <td>1.000000</td>\n      <td>1.000000</td>\n      <td>2.678298e+02</td>\n    </tr>\n    <tr>\n      <th>25%</th>\n      <td>1100.000000</td>\n      <td>2.000000</td>\n      <td>50.000000</td>\n      <td>2.000000</td>\n      <td>1100.000000</td>\n      <td>4.266865e+03</td>\n    </tr>\n    <tr>\n      <th>50%</th>\n      <td>1276.000000</td>\n      <td>2.000000</td>\n      <td>72.000000</td>\n      <td>3.000000</td>\n      <td>1276.000000</td>\n      <td>5.434306e+03</td>\n    </tr>\n    <tr>\n      <th>75%</th>\n      <td>1680.000000</td>\n      <td>3.000000</td>\n      <td>120.000000</td>\n      <td>3.000000</td>\n      <td>1680.000000</td>\n      <td>7.311746e+03</td>\n    </tr>\n    <tr>\n      <th>max</th>\n      <td>52272.000000</td>\n      <td>40.000000</td>\n      <td>3600.000000</td>\n      <td>43.000000</td>\n      <td>52272.000000</td>\n      <td>1.200000e+07</td>\n    </tr>\n  </tbody>\n</table>\n</div>"
          },
          "metadata": {}
        }
      ]
    },
    {
      "cell_type": "code",
      "source": "(data['total_sqft']/data['bhk']).describe()",
      "metadata": {
        "trusted": true
      },
      "execution_count": 39,
      "outputs": [
        {
          "execution_count": 39,
          "output_type": "execute_result",
          "data": {
            "text/plain": "count    13274.000000\nmean       575.074878\nstd        388.205175\nmin          0.250000\n25%        473.333333\n50%        552.500000\n75%        625.000000\nmax      26136.000000\ndtype: float64"
          },
          "metadata": {}
        }
      ]
    },
    {
      "cell_type": "code",
      "source": "data=data[((data['total_sqft']/data['bhk'])>=300)]\ndata.describe()",
      "metadata": {
        "trusted": true
      },
      "execution_count": 40,
      "outputs": [
        {
          "execution_count": 40,
          "output_type": "execute_result",
          "data": {
            "text/plain": "         total_sqft          bath         price           bhk     total_sft  \\\ncount  12530.000000  12530.000000  12530.000000  12530.000000  12530.000000   \nmean    1594.564544      2.559537    111.382401      2.650838   1594.564544   \nstd     1261.271296      1.077938    152.077329      0.976678   1261.271296   \nmin      300.000000      1.000000      8.440000      1.000000    300.000000   \n25%     1116.000000      2.000000     49.000000      2.000000   1116.000000   \n50%     1300.000000      2.000000     70.000000      3.000000   1300.000000   \n75%     1700.000000      3.000000    115.000000      3.000000   1700.000000   \nmax    52272.000000     16.000000   3600.000000     16.000000  52272.000000   \n\n       price_per_sqft  \ncount    12530.000000  \nmean      6303.979357  \nstd       4162.237981  \nmin        267.829813  \n25%       4210.526316  \n50%       5294.117647  \n75%       6916.666667  \nmax     176470.588235  ",
            "text/html": "<div>\n<style scoped>\n    .dataframe tbody tr th:only-of-type {\n        vertical-align: middle;\n    }\n\n    .dataframe tbody tr th {\n        vertical-align: top;\n    }\n\n    .dataframe thead th {\n        text-align: right;\n    }\n</style>\n<table border=\"1\" class=\"dataframe\">\n  <thead>\n    <tr style=\"text-align: right;\">\n      <th></th>\n      <th>total_sqft</th>\n      <th>bath</th>\n      <th>price</th>\n      <th>bhk</th>\n      <th>total_sft</th>\n      <th>price_per_sqft</th>\n    </tr>\n  </thead>\n  <tbody>\n    <tr>\n      <th>count</th>\n      <td>12530.000000</td>\n      <td>12530.000000</td>\n      <td>12530.000000</td>\n      <td>12530.000000</td>\n      <td>12530.000000</td>\n      <td>12530.000000</td>\n    </tr>\n    <tr>\n      <th>mean</th>\n      <td>1594.564544</td>\n      <td>2.559537</td>\n      <td>111.382401</td>\n      <td>2.650838</td>\n      <td>1594.564544</td>\n      <td>6303.979357</td>\n    </tr>\n    <tr>\n      <th>std</th>\n      <td>1261.271296</td>\n      <td>1.077938</td>\n      <td>152.077329</td>\n      <td>0.976678</td>\n      <td>1261.271296</td>\n      <td>4162.237981</td>\n    </tr>\n    <tr>\n      <th>min</th>\n      <td>300.000000</td>\n      <td>1.000000</td>\n      <td>8.440000</td>\n      <td>1.000000</td>\n      <td>300.000000</td>\n      <td>267.829813</td>\n    </tr>\n    <tr>\n      <th>25%</th>\n      <td>1116.000000</td>\n      <td>2.000000</td>\n      <td>49.000000</td>\n      <td>2.000000</td>\n      <td>1116.000000</td>\n      <td>4210.526316</td>\n    </tr>\n    <tr>\n      <th>50%</th>\n      <td>1300.000000</td>\n      <td>2.000000</td>\n      <td>70.000000</td>\n      <td>3.000000</td>\n      <td>1300.000000</td>\n      <td>5294.117647</td>\n    </tr>\n    <tr>\n      <th>75%</th>\n      <td>1700.000000</td>\n      <td>3.000000</td>\n      <td>115.000000</td>\n      <td>3.000000</td>\n      <td>1700.000000</td>\n      <td>6916.666667</td>\n    </tr>\n    <tr>\n      <th>max</th>\n      <td>52272.000000</td>\n      <td>16.000000</td>\n      <td>3600.000000</td>\n      <td>16.000000</td>\n      <td>52272.000000</td>\n      <td>176470.588235</td>\n    </tr>\n  </tbody>\n</table>\n</div>"
          },
          "metadata": {}
        }
      ]
    },
    {
      "cell_type": "code",
      "source": "data.shape",
      "metadata": {
        "trusted": true
      },
      "execution_count": 42,
      "outputs": [
        {
          "execution_count": 42,
          "output_type": "execute_result",
          "data": {
            "text/plain": "(12530, 8)"
          },
          "metadata": {}
        }
      ]
    },
    {
      "cell_type": "code",
      "source": "data.price_per_sqft.describe()",
      "metadata": {
        "trusted": true
      },
      "execution_count": 43,
      "outputs": [
        {
          "execution_count": 43,
          "output_type": "execute_result",
          "data": {
            "text/plain": "count     12530.000000\nmean       6303.979357\nstd        4162.237981\nmin         267.829813\n25%        4210.526316\n50%        5294.117647\n75%        6916.666667\nmax      176470.588235\nName: price_per_sqft, dtype: float64"
          },
          "metadata": {}
        }
      ]
    },
    {
      "cell_type": "code",
      "source": "def remove_outliers_sqft(df):\n    df_output=pd.DataFrame()\n    for key,subdf in df.groupby('location'):\n        m=np.mean(subdf.price_per_sqft)\n        st=np.std(subdf.price_per_sqft)\n        gen_df=subdf[(subdf.price_per_sqft>(m-st))&(subdf.price_per_sqft<=(m+st))]\n        df_output=pd.concat([df_output,gen_df],ignore_index=True)\n    return df_output\ndata=remove_outliers_sqft(data)\ndata.describe()",
      "metadata": {
        "trusted": true
      },
      "execution_count": 48,
      "outputs": [
        {
          "execution_count": 48,
          "output_type": "execute_result",
          "data": {
            "text/plain": "         total_sqft          bath         price           bhk     total_sft  \\\ncount  10301.000000  10301.000000  10301.000000  10301.000000  10301.000000   \nmean    1508.440608      2.471702     91.286372      2.574896   1508.440608   \nstd      880.694214      0.979449     86.342786      0.897649    880.694214   \nmin      300.000000      1.000000     10.000000      1.000000    300.000000   \n25%     1110.000000      2.000000     49.000000      2.000000   1110.000000   \n50%     1286.000000      2.000000     67.000000      2.000000   1286.000000   \n75%     1650.000000      3.000000    100.000000      3.000000   1650.000000   \nmax    30400.000000     16.000000   2200.000000     16.000000  30400.000000   \n\n       price_per_sqft  \ncount    10301.000000  \nmean      5659.062876  \nstd       2265.774749  \nmin       1250.000000  \n25%       4244.897959  \n50%       5175.600739  \n75%       6428.571429  \nmax      24509.803922  ",
            "text/html": "<div>\n<style scoped>\n    .dataframe tbody tr th:only-of-type {\n        vertical-align: middle;\n    }\n\n    .dataframe tbody tr th {\n        vertical-align: top;\n    }\n\n    .dataframe thead th {\n        text-align: right;\n    }\n</style>\n<table border=\"1\" class=\"dataframe\">\n  <thead>\n    <tr style=\"text-align: right;\">\n      <th></th>\n      <th>total_sqft</th>\n      <th>bath</th>\n      <th>price</th>\n      <th>bhk</th>\n      <th>total_sft</th>\n      <th>price_per_sqft</th>\n    </tr>\n  </thead>\n  <tbody>\n    <tr>\n      <th>count</th>\n      <td>10301.000000</td>\n      <td>10301.000000</td>\n      <td>10301.000000</td>\n      <td>10301.000000</td>\n      <td>10301.000000</td>\n      <td>10301.000000</td>\n    </tr>\n    <tr>\n      <th>mean</th>\n      <td>1508.440608</td>\n      <td>2.471702</td>\n      <td>91.286372</td>\n      <td>2.574896</td>\n      <td>1508.440608</td>\n      <td>5659.062876</td>\n    </tr>\n    <tr>\n      <th>std</th>\n      <td>880.694214</td>\n      <td>0.979449</td>\n      <td>86.342786</td>\n      <td>0.897649</td>\n      <td>880.694214</td>\n      <td>2265.774749</td>\n    </tr>\n    <tr>\n      <th>min</th>\n      <td>300.000000</td>\n      <td>1.000000</td>\n      <td>10.000000</td>\n      <td>1.000000</td>\n      <td>300.000000</td>\n      <td>1250.000000</td>\n    </tr>\n    <tr>\n      <th>25%</th>\n      <td>1110.000000</td>\n      <td>2.000000</td>\n      <td>49.000000</td>\n      <td>2.000000</td>\n      <td>1110.000000</td>\n      <td>4244.897959</td>\n    </tr>\n    <tr>\n      <th>50%</th>\n      <td>1286.000000</td>\n      <td>2.000000</td>\n      <td>67.000000</td>\n      <td>2.000000</td>\n      <td>1286.000000</td>\n      <td>5175.600739</td>\n    </tr>\n    <tr>\n      <th>75%</th>\n      <td>1650.000000</td>\n      <td>3.000000</td>\n      <td>100.000000</td>\n      <td>3.000000</td>\n      <td>1650.000000</td>\n      <td>6428.571429</td>\n    </tr>\n    <tr>\n      <th>max</th>\n      <td>30400.000000</td>\n      <td>16.000000</td>\n      <td>2200.000000</td>\n      <td>16.000000</td>\n      <td>30400.000000</td>\n      <td>24509.803922</td>\n    </tr>\n  </tbody>\n</table>\n</div>"
          },
          "metadata": {}
        }
      ]
    },
    {
      "cell_type": "code",
      "source": "def bhk_outlier_remover(df):\n    exclude_indices=np.array([])\n    for location,location_df in df.groupby('location'):\n        bhk_stats={}\n        for bhk,bhk_df in location_df.groupby('bhk'):\n            bhk_stats[bhk]={\n                'mean':np.mean(bhk_df.price_per_sqft),\n                'std' :np.std(bhk_df.price_per_sqft),\n                'count':bhk_df.shape[0]\n            }\n        for bhk,bhk_df in location_df.groupby('bhk'):\n            stats=bhk_stats.get(bhk-1)\n            if stats and stats['count']>5:\n                exclude_indices=np.append(exclude_indices,bhk_df[bhk_df.price_per_sqft<(stats['mean'])].index.values)\n    return df.drop(exclude_indices,axis='index')                            ",
      "metadata": {
        "trusted": true
      },
      "execution_count": 53,
      "outputs": []
    },
    {
      "cell_type": "code",
      "source": "data=bhk_outlier_remover(data)",
      "metadata": {
        "trusted": true
      },
      "execution_count": 54,
      "outputs": []
    },
    {
      "cell_type": "code",
      "source": "data\n",
      "metadata": {
        "trusted": true
      },
      "execution_count": 55,
      "outputs": [
        {
          "execution_count": 55,
          "output_type": "execute_result",
          "data": {
            "text/plain": "                  location       size  total_sqft  bath  price  bhk  \\\n0      1st Block Jayanagar      4 BHK      2850.0   4.0  428.0    4   \n1      1st Block Jayanagar      3 BHK      1630.0   3.0  194.0    3   \n2      1st Block Jayanagar      3 BHK      1875.0   2.0  235.0    3   \n3      1st Block Jayanagar      3 BHK      1200.0   2.0  130.0    3   \n4      1st Block Jayanagar      2 BHK      1235.0   2.0  148.0    2   \n...                    ...        ...         ...   ...    ...  ...   \n10292                other      2 BHK      1200.0   2.0   70.0    2   \n10293                other      1 BHK      1800.0   1.0  200.0    1   \n10296                other      2 BHK      1353.0   2.0  110.0    2   \n10297                other  1 Bedroom       812.0   1.0   26.0    1   \n10300                other      4 BHK      3600.0   5.0  400.0    4   \n\n       total_sft  price_per_sqft  \n0         2850.0    15017.543860  \n1         1630.0    11901.840491  \n2         1875.0    12533.333333  \n3         1200.0    10833.333333  \n4         1235.0    11983.805668  \n...          ...             ...  \n10292     1200.0     5833.333333  \n10293     1800.0    11111.111111  \n10296     1353.0     8130.081301  \n10297      812.0     3201.970443  \n10300     3600.0    11111.111111  \n\n[7361 rows x 8 columns]",
            "text/html": "<div>\n<style scoped>\n    .dataframe tbody tr th:only-of-type {\n        vertical-align: middle;\n    }\n\n    .dataframe tbody tr th {\n        vertical-align: top;\n    }\n\n    .dataframe thead th {\n        text-align: right;\n    }\n</style>\n<table border=\"1\" class=\"dataframe\">\n  <thead>\n    <tr style=\"text-align: right;\">\n      <th></th>\n      <th>location</th>\n      <th>size</th>\n      <th>total_sqft</th>\n      <th>bath</th>\n      <th>price</th>\n      <th>bhk</th>\n      <th>total_sft</th>\n      <th>price_per_sqft</th>\n    </tr>\n  </thead>\n  <tbody>\n    <tr>\n      <th>0</th>\n      <td>1st Block Jayanagar</td>\n      <td>4 BHK</td>\n      <td>2850.0</td>\n      <td>4.0</td>\n      <td>428.0</td>\n      <td>4</td>\n      <td>2850.0</td>\n      <td>15017.543860</td>\n    </tr>\n    <tr>\n      <th>1</th>\n      <td>1st Block Jayanagar</td>\n      <td>3 BHK</td>\n      <td>1630.0</td>\n      <td>3.0</td>\n      <td>194.0</td>\n      <td>3</td>\n      <td>1630.0</td>\n      <td>11901.840491</td>\n    </tr>\n    <tr>\n      <th>2</th>\n      <td>1st Block Jayanagar</td>\n      <td>3 BHK</td>\n      <td>1875.0</td>\n      <td>2.0</td>\n      <td>235.0</td>\n      <td>3</td>\n      <td>1875.0</td>\n      <td>12533.333333</td>\n    </tr>\n    <tr>\n      <th>3</th>\n      <td>1st Block Jayanagar</td>\n      <td>3 BHK</td>\n      <td>1200.0</td>\n      <td>2.0</td>\n      <td>130.0</td>\n      <td>3</td>\n      <td>1200.0</td>\n      <td>10833.333333</td>\n    </tr>\n    <tr>\n      <th>4</th>\n      <td>1st Block Jayanagar</td>\n      <td>2 BHK</td>\n      <td>1235.0</td>\n      <td>2.0</td>\n      <td>148.0</td>\n      <td>2</td>\n      <td>1235.0</td>\n      <td>11983.805668</td>\n    </tr>\n    <tr>\n      <th>...</th>\n      <td>...</td>\n      <td>...</td>\n      <td>...</td>\n      <td>...</td>\n      <td>...</td>\n      <td>...</td>\n      <td>...</td>\n      <td>...</td>\n    </tr>\n    <tr>\n      <th>10292</th>\n      <td>other</td>\n      <td>2 BHK</td>\n      <td>1200.0</td>\n      <td>2.0</td>\n      <td>70.0</td>\n      <td>2</td>\n      <td>1200.0</td>\n      <td>5833.333333</td>\n    </tr>\n    <tr>\n      <th>10293</th>\n      <td>other</td>\n      <td>1 BHK</td>\n      <td>1800.0</td>\n      <td>1.0</td>\n      <td>200.0</td>\n      <td>1</td>\n      <td>1800.0</td>\n      <td>11111.111111</td>\n    </tr>\n    <tr>\n      <th>10296</th>\n      <td>other</td>\n      <td>2 BHK</td>\n      <td>1353.0</td>\n      <td>2.0</td>\n      <td>110.0</td>\n      <td>2</td>\n      <td>1353.0</td>\n      <td>8130.081301</td>\n    </tr>\n    <tr>\n      <th>10297</th>\n      <td>other</td>\n      <td>1 Bedroom</td>\n      <td>812.0</td>\n      <td>1.0</td>\n      <td>26.0</td>\n      <td>1</td>\n      <td>812.0</td>\n      <td>3201.970443</td>\n    </tr>\n    <tr>\n      <th>10300</th>\n      <td>other</td>\n      <td>4 BHK</td>\n      <td>3600.0</td>\n      <td>5.0</td>\n      <td>400.0</td>\n      <td>4</td>\n      <td>3600.0</td>\n      <td>11111.111111</td>\n    </tr>\n  </tbody>\n</table>\n<p>7361 rows × 8 columns</p>\n</div>"
          },
          "metadata": {}
        }
      ]
    },
    {
      "cell_type": "code",
      "source": "data.drop(columns=['size','price_per_sqft','total_sft'],inplace=True)",
      "metadata": {
        "trusted": true
      },
      "execution_count": 56,
      "outputs": []
    },
    {
      "cell_type": "code",
      "source": "data.head()",
      "metadata": {
        "trusted": true
      },
      "execution_count": 57,
      "outputs": [
        {
          "execution_count": 57,
          "output_type": "execute_result",
          "data": {
            "text/plain": "              location  total_sqft  bath  price  bhk\n0  1st Block Jayanagar      2850.0   4.0  428.0    4\n1  1st Block Jayanagar      1630.0   3.0  194.0    3\n2  1st Block Jayanagar      1875.0   2.0  235.0    3\n3  1st Block Jayanagar      1200.0   2.0  130.0    3\n4  1st Block Jayanagar      1235.0   2.0  148.0    2",
            "text/html": "<div>\n<style scoped>\n    .dataframe tbody tr th:only-of-type {\n        vertical-align: middle;\n    }\n\n    .dataframe tbody tr th {\n        vertical-align: top;\n    }\n\n    .dataframe thead th {\n        text-align: right;\n    }\n</style>\n<table border=\"1\" class=\"dataframe\">\n  <thead>\n    <tr style=\"text-align: right;\">\n      <th></th>\n      <th>location</th>\n      <th>total_sqft</th>\n      <th>bath</th>\n      <th>price</th>\n      <th>bhk</th>\n    </tr>\n  </thead>\n  <tbody>\n    <tr>\n      <th>0</th>\n      <td>1st Block Jayanagar</td>\n      <td>2850.0</td>\n      <td>4.0</td>\n      <td>428.0</td>\n      <td>4</td>\n    </tr>\n    <tr>\n      <th>1</th>\n      <td>1st Block Jayanagar</td>\n      <td>1630.0</td>\n      <td>3.0</td>\n      <td>194.0</td>\n      <td>3</td>\n    </tr>\n    <tr>\n      <th>2</th>\n      <td>1st Block Jayanagar</td>\n      <td>1875.0</td>\n      <td>2.0</td>\n      <td>235.0</td>\n      <td>3</td>\n    </tr>\n    <tr>\n      <th>3</th>\n      <td>1st Block Jayanagar</td>\n      <td>1200.0</td>\n      <td>2.0</td>\n      <td>130.0</td>\n      <td>3</td>\n    </tr>\n    <tr>\n      <th>4</th>\n      <td>1st Block Jayanagar</td>\n      <td>1235.0</td>\n      <td>2.0</td>\n      <td>148.0</td>\n      <td>2</td>\n    </tr>\n  </tbody>\n</table>\n</div>"
          },
          "metadata": {}
        }
      ]
    },
    {
      "cell_type": "code",
      "source": "data.to_csv(\"Cleaned_Data.csv\")",
      "metadata": {
        "trusted": true
      },
      "execution_count": 58,
      "outputs": []
    },
    {
      "cell_type": "code",
      "source": "x=data.drop(columns=['price'])\ny=data['price']",
      "metadata": {
        "trusted": true
      },
      "execution_count": 59,
      "outputs": []
    },
    {
      "cell_type": "code",
      "source": "from sklearn.model_selection import train_test_split\nfrom sklearn.linear_model import LinearRegression,Lasso,Ridge\nfrom sklearn.preprocessing import OneHotEncoder, StandardScaler\nfrom sklearn.compose import make_column_transformer\nfrom sklearn.pipeline import make_pipeline\nfrom sklearn.metrics import r2_score",
      "metadata": {
        "trusted": true
      },
      "execution_count": 65,
      "outputs": []
    },
    {
      "cell_type": "code",
      "source": "x_train,x_test,y_train,y_test=train_test_split(x,y,test_size=0.2,random_state=0)",
      "metadata": {
        "trusted": true
      },
      "execution_count": 66,
      "outputs": []
    },
    {
      "cell_type": "code",
      "source": "print(x_train.shape)\nprint(x_test.shape)",
      "metadata": {
        "trusted": true
      },
      "execution_count": 67,
      "outputs": [
        {
          "name": "stdout",
          "text": "(5888, 4)\n(1473, 4)\n",
          "output_type": "stream"
        }
      ]
    },
    {
      "cell_type": "code",
      "source": "column_trans=make_column_transformer((OneHotEncoder(sparse=False),['location']),remainder='passthrough')",
      "metadata": {
        "trusted": true
      },
      "execution_count": 68,
      "outputs": []
    },
    {
      "cell_type": "code",
      "source": "scaler=StandardScaler()",
      "metadata": {
        "trusted": true
      },
      "execution_count": 69,
      "outputs": []
    },
    {
      "cell_type": "code",
      "source": "lr=LinearRegression()",
      "metadata": {
        "trusted": true
      },
      "execution_count": 74,
      "outputs": []
    },
    {
      "cell_type": "code",
      "source": "pipe=make_pipeline(column_trans,scaler,lr)",
      "metadata": {
        "trusted": true
      },
      "execution_count": 75,
      "outputs": []
    },
    {
      "cell_type": "code",
      "source": "pipe.fit(x_train,y_train)",
      "metadata": {
        "trusted": true
      },
      "execution_count": 76,
      "outputs": [
        {
          "name": "stderr",
          "text": "/lib/python3.11/site-packages/sklearn/preprocessing/_encoders.py:868: FutureWarning: `sparse` was renamed to `sparse_output` in version 1.2 and will be removed in 1.4. `sparse_output` is ignored unless you leave `sparse` to its default value.\n  warnings.warn(\n",
          "output_type": "stream"
        },
        {
          "execution_count": 76,
          "output_type": "execute_result",
          "data": {
            "text/plain": "Pipeline(steps=[('columntransformer',\n                 ColumnTransformer(remainder='passthrough',\n                                   transformers=[('onehotencoder',\n                                                  OneHotEncoder(sparse=False),\n                                                  ['location'])])),\n                ('standardscaler', StandardScaler()),\n                ('linearregression', LinearRegression())])",
            "text/html": "<style>#sk-container-id-1 {color: black;background-color: white;}#sk-container-id-1 pre{padding: 0;}#sk-container-id-1 div.sk-toggleable {background-color: white;}#sk-container-id-1 label.sk-toggleable__label {cursor: pointer;display: block;width: 100%;margin-bottom: 0;padding: 0.3em;box-sizing: border-box;text-align: center;}#sk-container-id-1 label.sk-toggleable__label-arrow:before {content: \"▸\";float: left;margin-right: 0.25em;color: #696969;}#sk-container-id-1 label.sk-toggleable__label-arrow:hover:before {color: black;}#sk-container-id-1 div.sk-estimator:hover label.sk-toggleable__label-arrow:before {color: black;}#sk-container-id-1 div.sk-toggleable__content {max-height: 0;max-width: 0;overflow: hidden;text-align: left;background-color: #f0f8ff;}#sk-container-id-1 div.sk-toggleable__content pre {margin: 0.2em;color: black;border-radius: 0.25em;background-color: #f0f8ff;}#sk-container-id-1 input.sk-toggleable__control:checked~div.sk-toggleable__content {max-height: 200px;max-width: 100%;overflow: auto;}#sk-container-id-1 input.sk-toggleable__control:checked~label.sk-toggleable__label-arrow:before {content: \"▾\";}#sk-container-id-1 div.sk-estimator input.sk-toggleable__control:checked~label.sk-toggleable__label {background-color: #d4ebff;}#sk-container-id-1 div.sk-label input.sk-toggleable__control:checked~label.sk-toggleable__label {background-color: #d4ebff;}#sk-container-id-1 input.sk-hidden--visually {border: 0;clip: rect(1px 1px 1px 1px);clip: rect(1px, 1px, 1px, 1px);height: 1px;margin: -1px;overflow: hidden;padding: 0;position: absolute;width: 1px;}#sk-container-id-1 div.sk-estimator {font-family: monospace;background-color: #f0f8ff;border: 1px dotted black;border-radius: 0.25em;box-sizing: border-box;margin-bottom: 0.5em;}#sk-container-id-1 div.sk-estimator:hover {background-color: #d4ebff;}#sk-container-id-1 div.sk-parallel-item::after {content: \"\";width: 100%;border-bottom: 1px solid gray;flex-grow: 1;}#sk-container-id-1 div.sk-label:hover label.sk-toggleable__label {background-color: #d4ebff;}#sk-container-id-1 div.sk-serial::before {content: \"\";position: absolute;border-left: 1px solid gray;box-sizing: border-box;top: 0;bottom: 0;left: 50%;z-index: 0;}#sk-container-id-1 div.sk-serial {display: flex;flex-direction: column;align-items: center;background-color: white;padding-right: 0.2em;padding-left: 0.2em;position: relative;}#sk-container-id-1 div.sk-item {position: relative;z-index: 1;}#sk-container-id-1 div.sk-parallel {display: flex;align-items: stretch;justify-content: center;background-color: white;position: relative;}#sk-container-id-1 div.sk-item::before, #sk-container-id-1 div.sk-parallel-item::before {content: \"\";position: absolute;border-left: 1px solid gray;box-sizing: border-box;top: 0;bottom: 0;left: 50%;z-index: -1;}#sk-container-id-1 div.sk-parallel-item {display: flex;flex-direction: column;z-index: 1;position: relative;background-color: white;}#sk-container-id-1 div.sk-parallel-item:first-child::after {align-self: flex-end;width: 50%;}#sk-container-id-1 div.sk-parallel-item:last-child::after {align-self: flex-start;width: 50%;}#sk-container-id-1 div.sk-parallel-item:only-child::after {width: 0;}#sk-container-id-1 div.sk-dashed-wrapped {border: 1px dashed gray;margin: 0 0.4em 0.5em 0.4em;box-sizing: border-box;padding-bottom: 0.4em;background-color: white;}#sk-container-id-1 div.sk-label label {font-family: monospace;font-weight: bold;display: inline-block;line-height: 1.2em;}#sk-container-id-1 div.sk-label-container {text-align: center;}#sk-container-id-1 div.sk-container {/* jupyter's `normalize.less` sets `[hidden] { display: none; }` but bootstrap.min.css set `[hidden] { display: none !important; }` so we also need the `!important` here to be able to override the default hidden behavior on the sphinx rendered scikit-learn.org. See: https://github.com/scikit-learn/scikit-learn/issues/21755 */display: inline-block !important;position: relative;}#sk-container-id-1 div.sk-text-repr-fallback {display: none;}</style><div id=\"sk-container-id-1\" class=\"sk-top-container\"><div class=\"sk-text-repr-fallback\"><pre>Pipeline(steps=[(&#x27;columntransformer&#x27;,\n                 ColumnTransformer(remainder=&#x27;passthrough&#x27;,\n                                   transformers=[(&#x27;onehotencoder&#x27;,\n                                                  OneHotEncoder(sparse=False),\n                                                  [&#x27;location&#x27;])])),\n                (&#x27;standardscaler&#x27;, StandardScaler()),\n                (&#x27;linearregression&#x27;, LinearRegression())])</pre><b>In a Jupyter environment, please rerun this cell to show the HTML representation or trust the notebook. <br />On GitHub, the HTML representation is unable to render, please try loading this page with nbviewer.org.</b></div><div class=\"sk-container\" hidden><div class=\"sk-item sk-dashed-wrapped\"><div class=\"sk-label-container\"><div class=\"sk-label sk-toggleable\"><input class=\"sk-toggleable__control sk-hidden--visually\" id=\"sk-estimator-id-1\" type=\"checkbox\" ><label for=\"sk-estimator-id-1\" class=\"sk-toggleable__label sk-toggleable__label-arrow\">Pipeline</label><div class=\"sk-toggleable__content\"><pre>Pipeline(steps=[(&#x27;columntransformer&#x27;,\n                 ColumnTransformer(remainder=&#x27;passthrough&#x27;,\n                                   transformers=[(&#x27;onehotencoder&#x27;,\n                                                  OneHotEncoder(sparse=False),\n                                                  [&#x27;location&#x27;])])),\n                (&#x27;standardscaler&#x27;, StandardScaler()),\n                (&#x27;linearregression&#x27;, LinearRegression())])</pre></div></div></div><div class=\"sk-serial\"><div class=\"sk-item sk-dashed-wrapped\"><div class=\"sk-label-container\"><div class=\"sk-label sk-toggleable\"><input class=\"sk-toggleable__control sk-hidden--visually\" id=\"sk-estimator-id-2\" type=\"checkbox\" ><label for=\"sk-estimator-id-2\" class=\"sk-toggleable__label sk-toggleable__label-arrow\">columntransformer: ColumnTransformer</label><div class=\"sk-toggleable__content\"><pre>ColumnTransformer(remainder=&#x27;passthrough&#x27;,\n                  transformers=[(&#x27;onehotencoder&#x27;, OneHotEncoder(sparse=False),\n                                 [&#x27;location&#x27;])])</pre></div></div></div><div class=\"sk-parallel\"><div class=\"sk-parallel-item\"><div class=\"sk-item\"><div class=\"sk-label-container\"><div class=\"sk-label sk-toggleable\"><input class=\"sk-toggleable__control sk-hidden--visually\" id=\"sk-estimator-id-3\" type=\"checkbox\" ><label for=\"sk-estimator-id-3\" class=\"sk-toggleable__label sk-toggleable__label-arrow\">onehotencoder</label><div class=\"sk-toggleable__content\"><pre>[&#x27;location&#x27;]</pre></div></div></div><div class=\"sk-serial\"><div class=\"sk-item\"><div class=\"sk-estimator sk-toggleable\"><input class=\"sk-toggleable__control sk-hidden--visually\" id=\"sk-estimator-id-4\" type=\"checkbox\" ><label for=\"sk-estimator-id-4\" class=\"sk-toggleable__label sk-toggleable__label-arrow\">OneHotEncoder</label><div class=\"sk-toggleable__content\"><pre>OneHotEncoder(sparse=False)</pre></div></div></div></div></div></div><div class=\"sk-parallel-item\"><div class=\"sk-item\"><div class=\"sk-label-container\"><div class=\"sk-label sk-toggleable\"><input class=\"sk-toggleable__control sk-hidden--visually\" id=\"sk-estimator-id-5\" type=\"checkbox\" ><label for=\"sk-estimator-id-5\" class=\"sk-toggleable__label sk-toggleable__label-arrow\">remainder</label><div class=\"sk-toggleable__content\"><pre>[&#x27;total_sqft&#x27;, &#x27;bath&#x27;, &#x27;bhk&#x27;]</pre></div></div></div><div class=\"sk-serial\"><div class=\"sk-item\"><div class=\"sk-estimator sk-toggleable\"><input class=\"sk-toggleable__control sk-hidden--visually\" id=\"sk-estimator-id-6\" type=\"checkbox\" ><label for=\"sk-estimator-id-6\" class=\"sk-toggleable__label sk-toggleable__label-arrow\">passthrough</label><div class=\"sk-toggleable__content\"><pre>passthrough</pre></div></div></div></div></div></div></div></div><div class=\"sk-item\"><div class=\"sk-estimator sk-toggleable\"><input class=\"sk-toggleable__control sk-hidden--visually\" id=\"sk-estimator-id-7\" type=\"checkbox\" ><label for=\"sk-estimator-id-7\" class=\"sk-toggleable__label sk-toggleable__label-arrow\">StandardScaler</label><div class=\"sk-toggleable__content\"><pre>StandardScaler()</pre></div></div></div><div class=\"sk-item\"><div class=\"sk-estimator sk-toggleable\"><input class=\"sk-toggleable__control sk-hidden--visually\" id=\"sk-estimator-id-8\" type=\"checkbox\" ><label for=\"sk-estimator-id-8\" class=\"sk-toggleable__label sk-toggleable__label-arrow\">LinearRegression</label><div class=\"sk-toggleable__content\"><pre>LinearRegression()</pre></div></div></div></div></div></div></div>"
          },
          "metadata": {}
        }
      ]
    },
    {
      "cell_type": "code",
      "source": "y_pred_lr=pipe.predict(x_test)\nr2_score(y_test,y_pred_lr)\n",
      "metadata": {
        "trusted": true
      },
      "execution_count": 81,
      "outputs": [
        {
          "execution_count": 81,
          "output_type": "execute_result",
          "data": {
            "text/plain": "0.8233547087665503"
          },
          "metadata": {}
        }
      ]
    },
    {
      "cell_type": "code",
      "source": "#Applying Lasso\nlasso=Lasso()\npipe=make_pipeline(column_trans,scaler,lasso)\npipe.fit(x_train,y_train)\ny_pred_lasso=pipe.predict(x_test)\nr2_score(y_test,y_pred_lasso)",
      "metadata": {
        "trusted": true
      },
      "execution_count": 84,
      "outputs": [
        {
          "name": "stderr",
          "text": "/lib/python3.11/site-packages/sklearn/preprocessing/_encoders.py:868: FutureWarning: `sparse` was renamed to `sparse_output` in version 1.2 and will be removed in 1.4. `sparse_output` is ignored unless you leave `sparse` to its default value.\n  warnings.warn(\n",
          "output_type": "stream"
        },
        {
          "execution_count": 84,
          "output_type": "execute_result",
          "data": {
            "text/plain": "0.812828565077272"
          },
          "metadata": {}
        }
      ]
    },
    {
      "cell_type": "code",
      "source": "#Applying Ridge\nridge=Ridge()\npipe=make_pipeline(column_trans,scaler,ridge)\npipe.fit(x_train,y_train)\ny_pred_ridge=pipe.predict(x_test)\nr2_score(y_test,y_pred_ridge)",
      "metadata": {
        "trusted": true
      },
      "execution_count": 85,
      "outputs": [
        {
          "name": "stderr",
          "text": "/lib/python3.11/site-packages/sklearn/preprocessing/_encoders.py:868: FutureWarning: `sparse` was renamed to `sparse_output` in version 1.2 and will be removed in 1.4. `sparse_output` is ignored unless you leave `sparse` to its default value.\n  warnings.warn(\n",
          "output_type": "stream"
        },
        {
          "execution_count": 85,
          "output_type": "execute_result",
          "data": {
            "text/plain": "0.82341466333127"
          },
          "metadata": {}
        }
      ]
    },
    {
      "cell_type": "code",
      "source": "import pickle",
      "metadata": {
        "trusted": true
      },
      "execution_count": 86,
      "outputs": []
    },
    {
      "cell_type": "code",
      "source": "pickle.dump(pipe,open('RidgeModel.pkl','wb'))",
      "metadata": {
        "trusted": true
      },
      "execution_count": 87,
      "outputs": []
    },
    {
      "cell_type": "code",
      "source": "",
      "metadata": {},
      "execution_count": null,
      "outputs": []
    }
  ]
}